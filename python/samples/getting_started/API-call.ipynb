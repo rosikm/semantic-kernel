{
 "cells": [
  {
   "cell_type": "markdown",
   "metadata": {},
   "source": [
    "POST https://4d4a8e8117a44a929bfe8d12e607fb7.f.environment.api.preprod.powerplatform.com/processmining/processversionquery?api-version=1 \n",
    "Headers:\n",
    "{\n",
    "  Authorization: [token]\n",
    "  Accept: application/json\n",
    "  Content-Type: application/json; charset=utf-8\n",
    "}\n",
    "Content:\n",
    "{\n",
    "{\"QueryId\":\"b76b0c0c-4da8-45cf-a30a-32e287218dcd\",\"Parameters\":{\"$type\":\"GetProcessMetadataParameters\"},\"QueryContext\":{\"ProcessVersionId\":\"2ef16ad7-5d09-42e1-9b01-527fdee4d877\",\"ProcessExtendedMetadataVersionId\":\"88edd990-c418-448c-acc4-72587bb67030\",\"CalendarTemplateVersionId\":null,\"FilterParameters\":[]}}\n",
    "}\n",
    "}"
   ]
  },
  {
   "cell_type": "code",
   "execution_count": 79,
   "metadata": {},
   "outputs": [],
   "source": [
    "# importing the requests library\n",
    "import requests\n",
    "from requests.auth import AuthBase\n",
    "\n",
    "# defining the api-endpoint\n",
    "API_ENDPOINT = \"https://4d4a8e8117a44a929bfe8d12e607fb7.f.environment.api.preprod.powerplatform.com/processmining/processquery?api-version=1\"\n",
    "\n",
    "# your API key here\n",
    "API_TOKEN = \"eyJ0eXAiOiJKV1QiLCJub25jZSI6IlhUSHl2dnBBY3g2dXBzbm42T29xU3YtTzQ4NC1QMGJVWGF6NVU2azRQaGciLCJhbGciOiJSUzI1NiIsIng1dCI6InEtMjNmYWxldlpoaEQzaG05Q1Fia1A1TVF5VSIsImtpZCI6InEtMjNmYWxldlpoaEQzaG05Q1Fia1A1TVF5VSJ9.eyJhdWQiOiJodHRwczovL2FwaS5wcmVwcm9kLnBvd2VycGxhdGZvcm0uY29tIiwiaXNzIjoiaHR0cHM6Ly9zdHMud2luZG93cy5uZXQvNzJmOTg4YmYtODZmMS00MWFmLTkxYWItMmQ3Y2QwMTFkYjQ3LyIsImlhdCI6MTcxNDA0NjAxOCwibmJmIjoxNzE0MDQ2MDE4LCJleHAiOjE3MTQwNTA0NjUsImFjY3QiOjAsImFjciI6IjEiLCJhaW8iOiJBVlFBcS84V0FBQUFPb0ZuRjc4NzYzamJsNUV5M2hCUW5rbkMxcVFqR0FwTUlrOE9md09rZzNDamE1bXF5eC9hZjlDdXNKU1lNMjlJR1pZUTVOK0FhaE9MQmVxNmhTT1JXMjVTVWhQWWF3amxHbERVY1dQRk9Oaz0iLCJhbXIiOlsicHdkIiwicnNhIiwibWZhIl0sImFwcGlkIjoiNDk2NzZkYWYtZmYyMy00YWFjLWFkY2MtNTU0NzJkNGUyY2UwIiwiYXBwaWRhY3IiOiIwIiwiY29udHJvbHMiOlsiYXBwX3JlcyJdLCJjb250cm9sc19hdWRzIjpbIjBkZGI3NDJhLWU3ZGMtNDg5OS1hMzFlLTgwZTc5N2VjNzE0NCJdLCJkZXZpY2VpZCI6IjhlNjAzMjAzLTZiZWItNGYxMy05YmIxLTBkN2ExZmRjYzE4YiIsImZhbWlseV9uYW1lIjoiUm9zaWsiLCJnaXZlbl9uYW1lIjoiTWljaGFsIiwiaXBhZGRyIjoiOTUuMTA1LjE0MS4xNjQiLCJuYW1lIjoiTWljaGFsIFJvc2lrIiwib2lkIjoiZjIyMWQyYmMtYzUyYi00MTQyLWFkMjgtNzlhZTdmNGY3YzQwIiwib25wcmVtX3NpZCI6IlMtMS01LTIxLTIxMjc1MjExODQtMTYwNDAxMjkyMC0xODg3OTI3NTI3LTU2MzMzOTE0IiwicHVpZCI6IjEwMDMyMDAxRUIzOTMwNEIiLCJyaCI6IjAuQVJvQXY0ajVjdkdHcjBHUnF5MTgwQkhiUnlwMDJ3M2M1NWxJb3g2QTU1ZnNjVVFhQUJvLiIsInNjcCI6IkFsbC5BbGwuUmVhZFdyaXRlIFBvd2VyUGFnZXMuV2Vic2l0ZXMuUmVhZCBQb3dlclBhZ2VzLldlYnNpdGVzLldyaXRlIiwic2lnbmluX3N0YXRlIjpbImR2Y19tbmdkIiwiZHZjX2NtcCIsImttc2kiXSwic3ViIjoiNkdyWG9JVlotczdQR1ZhRElENThOX1J6dUdmblZIOTdlcVY2bGNHYzktSSIsInRpZCI6IjcyZjk4OGJmLTg2ZjEtNDFhZi05MWFiLTJkN2NkMDExZGI0NyIsInVuaXF1ZV9uYW1lIjoibWljaGFscm9zaWtAbWljcm9zb2Z0LmNvbSIsInVwbiI6Im1pY2hhbHJvc2lrQG1pY3Jvc29mdC5jb20iLCJ1dGkiOiIzNWNFcVp3RHMwLUdYakJDTjVtcEFBIiwidmVyIjoiMS4wIiwid2lkcyI6WyJiNzlmYmY0ZC0zZWY5LTQ2ODktODE0My03NmIxOTRlODU1MDkiXX0.bS4IQgG7-i-v4LkePVM48ATA6WFgpesLzrCW71Rb4xuCLVSFjVxl44uQgsvYS8GTxw4s_7jDux8CPcIc9xmvlbBRs_dgIiB1TXtAJVq-W2L4KT0407RXvv6cxEuZFsQTN_fjZXL8OKmsMtuJwqD7S8kc8oGJ3DEGL6KABazbB2_K1LquWDg9rDvAG8V8b_f9VGM2NDkKTL8Vww--wM2z0_LGNCLnI_ln2bpt_eoQUAIHkgT83CpgE2NrL_94h1dj9tjZBwnXdtAjlvx4VvmQrEIWCVep7gvIEMDF4LU1tCnB2z5KhcXEcdq023Gntb_lHYq3rENX2Q7fu5qPos-57A\""
   ]
  },
  {
   "cell_type": "code",
   "execution_count": 50,
   "metadata": {},
   "outputs": [],
   "source": [
    "class TokenAuth(AuthBase):\n",
    "    \"\"\"Implements a token authentication scheme.\"\"\"\n",
    "\n",
    "    def __init__(self, token):\n",
    "        self.token = token\n",
    "\n",
    "    def __call__(self, request):\n",
    "        \"\"\"Attach an API token to the Authorization header.\"\"\"\n",
    "        request.headers[\"Authorization\"] = f\"Bearer {self.token}\"\n",
    "        return request"
   ]
  },
  {
   "cell_type": "code",
   "execution_count": 80,
   "metadata": {},
   "outputs": [],
   "source": [
    "headers = {\n",
    "           'Accept': 'application/json',\n",
    "           'Content-Type': 'application/json; charset=utf-8'\n",
    "           }"
   ]
  },
  {
   "cell_type": "code",
   "execution_count": 52,
   "metadata": {},
   "outputs": [],
   "source": [
    "data = {\n",
    "        \"QueryId\":\"b76b0c0c-4da8-45cf-a30a-32e287218dcd\",\n",
    "        \"Parameters\":{\"$$type\":\"GetProcessMetadataParameters\"},\n",
    "        \"QueryContext\":{\"ProcessVersionId\":\"2ef16ad7-5d09-42e1-9b01-527fdee4d877\",\"ProcessExtendedMetadataVersionId\":\"88edd990-c418-448c-acc4-72587bb67030\",\"CalendarTemplateVersionId\":'',\"FilterParameters\":[]}\n",
    "        }"
   ]
  },
  {
   "cell_type": "code",
   "execution_count": 81,
   "metadata": {},
   "outputs": [],
   "source": [
    "data = '{\"QueryId\": \"1e4f68c3-21cf-4e3c-aab2-89ed0cb38e48\", \"Parameters\": {\"$type\": \"GetProcessMetadataParameters\"},\"QueryContext\": {\"ProcessId\": \"ac823af4-ce14-ee11-9cbc-0022481c9756\"}}'"
   ]
  },
  {
   "cell_type": "code",
   "execution_count": 82,
   "metadata": {},
   "outputs": [
    {
     "data": {
      "text/plain": [
       "'{\"QueryId\": \"1e4f68c3-21cf-4e3c-aab2-89ed0cb38e48\", \"Parameters\": {\"$type\": \"GetProcessMetadataParameters\"},\"QueryContext\": {\"ProcessId\": \"ac823af4-ce14-ee11-9cbc-0022481c9756\"}}'"
      ]
     },
     "execution_count": 82,
     "metadata": {},
     "output_type": "execute_result"
    }
   ],
   "source": [
    "data"
   ]
  },
  {
   "cell_type": "code",
   "execution_count": 83,
   "metadata": {},
   "outputs": [],
   "source": [
    "# sending post request and saving response as response object\n",
    "response = requests.post(url=API_ENDPOINT, auth=TokenAuth(API_TOKEN), headers=headers, data=data)"
   ]
  },
  {
   "cell_type": "code",
   "execution_count": 84,
   "metadata": {},
   "outputs": [
    {
     "data": {
      "text/plain": [
       "'Bearer eyJ0eXAiOiJKV1QiLCJub25jZSI6IlhUSHl2dnBBY3g2dXBzbm42T29xU3YtTzQ4NC1QMGJVWGF6NVU2azRQaGciLCJhbGciOiJSUzI1NiIsIng1dCI6InEtMjNmYWxldlpoaEQzaG05Q1Fia1A1TVF5VSIsImtpZCI6InEtMjNmYWxldlpoaEQzaG05Q1Fia1A1TVF5VSJ9.eyJhdWQiOiJodHRwczovL2FwaS5wcmVwcm9kLnBvd2VycGxhdGZvcm0uY29tIiwiaXNzIjoiaHR0cHM6Ly9zdHMud2luZG93cy5uZXQvNzJmOTg4YmYtODZmMS00MWFmLTkxYWItMmQ3Y2QwMTFkYjQ3LyIsImlhdCI6MTcxNDA0NjAxOCwibmJmIjoxNzE0MDQ2MDE4LCJleHAiOjE3MTQwNTA0NjUsImFjY3QiOjAsImFjciI6IjEiLCJhaW8iOiJBVlFBcS84V0FBQUFPb0ZuRjc4NzYzamJsNUV5M2hCUW5rbkMxcVFqR0FwTUlrOE9md09rZzNDamE1bXF5eC9hZjlDdXNKU1lNMjlJR1pZUTVOK0FhaE9MQmVxNmhTT1JXMjVTVWhQWWF3amxHbERVY1dQRk9Oaz0iLCJhbXIiOlsicHdkIiwicnNhIiwibWZhIl0sImFwcGlkIjoiNDk2NzZkYWYtZmYyMy00YWFjLWFkY2MtNTU0NzJkNGUyY2UwIiwiYXBwaWRhY3IiOiIwIiwiY29udHJvbHMiOlsiYXBwX3JlcyJdLCJjb250cm9sc19hdWRzIjpbIjBkZGI3NDJhLWU3ZGMtNDg5OS1hMzFlLTgwZTc5N2VjNzE0NCJdLCJkZXZpY2VpZCI6IjhlNjAzMjAzLTZiZWItNGYxMy05YmIxLTBkN2ExZmRjYzE4YiIsImZhbWlseV9uYW1lIjoiUm9zaWsiLCJnaXZlbl9uYW1lIjoiTWljaGFsIiwiaXBhZGRyIjoiOTUuMTA1LjE0MS4xNjQiLCJuYW1lIjoiTWljaGFsIFJvc2lrIiwib2lkIjoiZjIyMWQyYmMtYzUyYi00MTQyLWFkMjgtNzlhZTdmNGY3YzQwIiwib25wcmVtX3NpZCI6IlMtMS01LTIxLTIxMjc1MjExODQtMTYwNDAxMjkyMC0xODg3OTI3NTI3LTU2MzMzOTE0IiwicHVpZCI6IjEwMDMyMDAxRUIzOTMwNEIiLCJyaCI6IjAuQVJvQXY0ajVjdkdHcjBHUnF5MTgwQkhiUnlwMDJ3M2M1NWxJb3g2QTU1ZnNjVVFhQUJvLiIsInNjcCI6IkFsbC5BbGwuUmVhZFdyaXRlIFBvd2VyUGFnZXMuV2Vic2l0ZXMuUmVhZCBQb3dlclBhZ2VzLldlYnNpdGVzLldyaXRlIiwic2lnbmluX3N0YXRlIjpbImR2Y19tbmdkIiwiZHZjX2NtcCIsImttc2kiXSwic3ViIjoiNkdyWG9JVlotczdQR1ZhRElENThOX1J6dUdmblZIOTdlcVY2bGNHYzktSSIsInRpZCI6IjcyZjk4OGJmLTg2ZjEtNDFhZi05MWFiLTJkN2NkMDExZGI0NyIsInVuaXF1ZV9uYW1lIjoibWljaGFscm9zaWtAbWljcm9zb2Z0LmNvbSIsInVwbiI6Im1pY2hhbHJvc2lrQG1pY3Jvc29mdC5jb20iLCJ1dGkiOiIzNWNFcVp3RHMwLUdYakJDTjVtcEFBIiwidmVyIjoiMS4wIiwid2lkcyI6WyJiNzlmYmY0ZC0zZWY5LTQ2ODktODE0My03NmIxOTRlODU1MDkiXX0.bS4IQgG7-i-v4LkePVM48ATA6WFgpesLzrCW71Rb4xuCLVSFjVxl44uQgsvYS8GTxw4s_7jDux8CPcIc9xmvlbBRs_dgIiB1TXtAJVq-W2L4KT0407RXvv6cxEuZFsQTN_fjZXL8OKmsMtuJwqD7S8kc8oGJ3DEGL6KABazbB2_K1LquWDg9rDvAG8V8b_f9VGM2NDkKTL8Vww--wM2z0_LGNCLnI_ln2bpt_eoQUAIHkgT83CpgE2NrL_94h1dj9tjZBwnXdtAjlvx4VvmQrEIWCVep7gvIEMDF4LU1tCnB2z5KhcXEcdq023Gntb_lHYq3rENX2Q7fu5qPos-57A'"
      ]
     },
     "execution_count": 84,
     "metadata": {},
     "output_type": "execute_result"
    }
   ],
   "source": [
    "response.request.headers[\"Authorization\"]"
   ]
  },
  {
   "cell_type": "code",
   "execution_count": 85,
   "metadata": {},
   "outputs": [
    {
     "name": "stdout",
     "output_type": "stream",
     "text": [
      "The pastebin URL is: {\"result\":{\"$type\":\"GetProcessMetadataResult\",\"processMetadata\":{\"id\":\"ac823af4-ce14-ee11-9cbc-0022481c9756\",\"attributes\":[{\"name\":\"CaseID\",\"dataType\":2,\"importType\":0,\"financeType\":0,\"activityRelationType\":0,\"incrementalTimeStampType\":0,\"index\":0,\"isNormalized\":true,\"count\":795,\"level\":1},{\"name\":\"Activity\",\"dataType\":0,\"importType\":1,\"financeType\":0,\"activityRelationType\":0,\"incrementalTimeStampType\":0,\"index\":1,\"isNormalized\":true,\"count\":21,\"level\":0},{\"name\":\"StartTimestamp\",\"dataType\":1,\"importType\":2,\"financeType\":0,\"activityRelationType\":0,\"incrementalTimeStampType\":0,\"index\":2,\"isNormalized\":false,\"count\":10000,\"level\":0},{\"name\":\"EndTimestamp\",\"dataType\":1,\"importType\":3,\"financeType\":0,\"activityRelationType\":0,\"incrementalTimeStampType\":0,\"index\":3,\"isNormalized\":false,\"count\":10000,\"level\":0},{\"name\":\"EventType\",\"dataType\":2,\"importType\":6,\"financeType\":0,\"activityRelationType\":0,\"incrementalTimeStampType\":0,\"index\":4,\"isNormalized\":true,\"count\":3,\"level\":0},{\"name\":\"ActivityStatus\",\"dataType\":0,\"importType\":6,\"financeType\":0,\"activityRelationType\":0,\"incrementalTimeStampType\":0,\"index\":5,\"isNormalized\":true,\"count\":1,\"level\":0},{\"name\":\"EventStatus\",\"dataType\":0,\"importType\":6,\"financeType\":0,\"activityRelationType\":0,\"incrementalTimeStampType\":0,\"index\":6,\"isNormalized\":true,\"count\":2,\"level\":0},{\"name\":\"Resource\",\"dataType\":0,\"importType\":5,\"financeType\":0,\"activityRelationType\":0,\"incrementalTimeStampType\":0,\"index\":7,\"isNormalized\":true,\"count\":38,\"level\":0},{\"name\":\"ActivityFinalAction\",\"dataType\":0,\"importType\":6,\"financeType\":0,\"activityRelationType\":0,\"incrementalTimeStampType\":0,\"index\":8,\"isNormalized\":true,\"count\":10,\"level\":0},{\"name\":\"CaseStatus\",\"dataType\":0,\"importType\":6,\"financeType\":0,\"activityRelationType\":0,\"incrementalTimeStampType\":0,\"index\":9,\"isNormalized\":true,\"count\":1,\"level\":1},{\"name\":\"CostCenter.Code\",\"dataType\":0,\"importType\":6,\"financeType\":0,\"activityRelationType\":0,\"incrementalTimeStampType\":0,\"index\":10,\"isNormalized\":true,\"count\":24,\"level\":1},{\"name\":\"InvoiceStatus.DisplayName\",\"dataType\":0,\"importType\":6,\"financeType\":0,\"activityRelationType\":0,\"incrementalTimeStampType\":0,\"index\":11,\"isNormalized\":true,\"count\":2,\"level\":0},{\"name\":\"InvoiceTotalAmountWithoutVAT\",\"dataType\":2,\"importType\":6,\"financeType\":1,\"activityRelationType\":0,\"incrementalTimeStampType\":0,\"index\":12,\"isNormalized\":true,\"count\":758,\"level\":1},{\"name\":\"Supplier.City\",\"dataType\":0,\"importType\":6,\"financeType\":0,\"activityRelationType\":0,\"incrementalTimeStampType\":0,\"index\":13,\"isNormalized\":true,\"count\":290,\"level\":1},{\"name\":\"Supplier.Name\",\"dataType\":0,\"importType\":6,\"financeType\":0,\"activityRelationType\":0,\"incrementalTimeStampType\":0,\"index\":14,\"isNormalized\":true,\"count\":392,\"level\":1},{\"name\":\"Supplier.State\",\"dataType\":0,\"importType\":6,\"financeType\":0,\"activityRelationType\":0,\"incrementalTimeStampType\":0,\"index\":15,\"isNormalized\":true,\"count\":21,\"level\":1}],\"caseCount\":795,\"eventCount\":10000,\"eventSize\":34,\"hasTimestamp\":true,\"hasDuration\":true,\"processDataVersion\":1}},\"resultMetadata\":{\"incrementTimestamp\":null},\"success\":true,\"message\":null}\n"
     ]
    }
   ],
   "source": [
    "# extracting response text\n",
    "pastebin_url = response.text\n",
    "print(\"The pastebin URL is: %s\" % pastebin_url)"
   ]
  },
  {
   "cell_type": "code",
   "execution_count": 86,
   "metadata": {},
   "outputs": [
    {
     "data": {
      "text/plain": [
       "<Response [200]>"
      ]
     },
     "execution_count": 86,
     "metadata": {},
     "output_type": "execute_result"
    }
   ],
   "source": [
    "response"
   ]
  },
  {
   "cell_type": "code",
   "execution_count": null,
   "metadata": {},
   "outputs": [],
   "source": []
  }
 ],
 "metadata": {
  "kernelspec": {
   "display_name": "Python 3",
   "language": "python",
   "name": "python3"
  },
  "language_info": {
   "codemirror_mode": {
    "name": "ipython",
    "version": 3
   },
   "file_extension": ".py",
   "mimetype": "text/x-python",
   "name": "python",
   "nbconvert_exporter": "python",
   "pygments_lexer": "ipython3",
   "version": "3.11.0"
  }
 },
 "nbformat": 4,
 "nbformat_minor": 2
}
