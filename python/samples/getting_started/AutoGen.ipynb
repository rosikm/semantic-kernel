{
 "cells": [
  {
   "cell_type": "code",
   "execution_count": null,
   "metadata": {},
   "outputs": [],
   "source": [
    "import os\n",
    "from datetime import datetime\n",
    "from typing import Callable, Dict, Literal, Optional, Union\n",
    "\n",
    "from typing_extensions import Annotated\n",
    "\n",
    "from autogen import (\n",
    "    Agent,\n",
    "    AssistantAgent,\n",
    "    ConversableAgent,\n",
    "    GroupChat,\n",
    "    GroupChatManager,\n",
    "    UserProxyAgent,\n",
    "    config_list_from_json,\n",
    "    register_function,\n",
    ")\n",
    "from autogen.agentchat.contrib import agent_builder\n",
    "from autogen.cache import Cache\n",
    "from autogen.coding import DockerCommandLineCodeExecutor, LocalCommandLineCodeExecutor\n",
    "from autogen.coding.jupyter import JupyterCodeExecutor, EmbeddedIPythonCodeExecutor"
   ]
  },
  {
   "cell_type": "code",
   "execution_count": null,
   "metadata": {},
   "outputs": [],
   "source": [
    "config_list = [\n",
    "                    {\n",
    "                        \"model\": \"hippo-gpt4\",\n",
    "                        \"api_type\": \"azure\",\n",
    "                        \"api_key\": '53f889aad77847c2833fb1748900c18e',\n",
    "                        \"base_url\": \"https://hippooai.openai.azure.com/\",\n",
    "                        \"api_version\": \"2024-03-01-preview\"\n",
    "                    }\n",
    "                ]\n",
    "\n",
    "precise_llm_config = {\"config_list\": config_list, \"cache_seed\": None, \"temperature\": 0}\n",
    "creative_llm_config = {\"config_list\": config_list, \"cache_seed\": None, \"temperature\": 0.9}"
   ]
  },
  {
   "cell_type": "code",
   "execution_count": null,
   "metadata": {},
   "outputs": [],
   "source": [
    "task = (\n",
    "    f\"Today is {datetime.now().date()}. Write a blogpost about the stock price performance of Nvidia in the past month.\"\n",
    ")\n",
    "print(task)"
   ]
  },
  {
   "cell_type": "code",
   "execution_count": null,
   "metadata": {},
   "outputs": [],
   "source": [
    "task = (\n",
    "    f\"Generate a random timeseries dataset for the daily amounts sold in February and make prediction for first week of March. Write a short blog post about the prediction.\"\n",
    ")\n",
    "print(task)"
   ]
  },
  {
   "cell_type": "code",
   "execution_count": null,
   "metadata": {},
   "outputs": [],
   "source": [
    "user_proxy = UserProxyAgent(\n",
    "    name=\"Admin\",\n",
    "    system_message=\"A human admin. Give the task, and send instructions to writer to refine the blog post.\",\n",
    "    code_execution_config=False,\n",
    ")\n",
    "\n",
    "planner = AssistantAgent(\n",
    "    name=\"Planner\",\n",
    "    system_message=\"\"\"Planner. Given a task, please determine what information is needed to complete the task.\n",
    "Please note that the information will all be retrieved using Python code. Please only suggest information that can be retrieved using Python code.\n",
    "\"\"\",\n",
    "    llm_config=creative_llm_config,\n",
    ")\n",
    "\n",
    "engineer = AssistantAgent(\n",
    "    name=\"Engineer\",\n",
    "    llm_config=precise_llm_config,\n",
    "    system_message=\"\"\"Engineer. You write python/bash to retrieve relevant information. Wrap the code in a code block that specifies the script type. The user can't modify your code. So do not suggest incomplete code which requires others to modify. Don't use a code block if it's not intended to be executed by the executor.\n",
    "Don't include multiple code blocks in one response. Do not ask others to copy and paste the result. Check the execution result returned by the executor.\n",
    "If the result indicates there is an error, fix the error and output the code again. Suggest the full code instead of partial code or code changes. If the error can't be fixed or if the task is not solved even after the code is executed successfully, analyze the problem, revisit your assumption, collect additional info you need, and think of a different approach to try.\n",
    "\"\"\",\n",
    ")\n",
    "\n",
    "writer = AssistantAgent(\n",
    "    name=\"Writer\",\n",
    "    llm_config=creative_llm_config,\n",
    "    system_message=\"\"\"Writer. Please write blogs in markdown format (with relevant titles) and put the content in pseudo ```md``` code block. You will write it for a task based on previous chat history. Don't write any code.\"\"\",\n",
    ")\n",
    "\n",
    "os.makedirs(\"paper\", exist_ok=True)\n",
    "code_executor = UserProxyAgent(\n",
    "    name=\"Executor\",\n",
    "    system_message=\"Executor. Execute the code written by the engineer and report the result.\",\n",
    "    description=\"Executor should always be called after the engineer has written code to be executed.\",\n",
    "    human_input_mode=\"ALWAYS\",\n",
    "    code_execution_config={\n",
    "        \"last_n_messages\": 3,\n",
    "        #\"executor\": LocalCommandLineCodeExecutor(work_dir=\"paper\"),\n",
    "        \"executor\": EmbeddedIPythonCodeExecutor(),\n",
    "    },\n",
    ")\n",
    "\n",
    "groupchat = GroupChat(\n",
    "    agents=[user_proxy, engineer, code_executor, writer, planner],\n",
    "    messages=[],\n",
    "    max_round=20,\n",
    "    speaker_selection_method=\"auto\",\n",
    ")\n",
    "manager = GroupChatManager(groupchat=groupchat, llm_config=creative_llm_config,)\n",
    "\n",
    "# Use Cache.disk to cache LLM responses. Change cache_seed for different responses.\n",
    "with Cache.disk(cache_seed=41) as cache:\n",
    "    chat_history = user_proxy.initiate_chat(\n",
    "        manager,\n",
    "        message=task,\n",
    "        cache=cache,\n",
    "    )"
   ]
  },
  {
   "cell_type": "code",
   "execution_count": null,
   "metadata": {},
   "outputs": [],
   "source": []
  },
  {
   "cell_type": "code",
   "execution_count": null,
   "metadata": {},
   "outputs": [],
   "source": []
  }
 ],
 "metadata": {
  "kernelspec": {
   "display_name": "Python 3",
   "language": "python",
   "name": "python3"
  },
  "language_info": {
   "codemirror_mode": {
    "name": "ipython",
    "version": 3
   },
   "file_extension": ".py",
   "mimetype": "text/x-python",
   "name": "python",
   "nbconvert_exporter": "python",
   "pygments_lexer": "ipython3",
   "version": "3.12.3"
  }
 },
 "nbformat": 4,
 "nbformat_minor": 2
}
